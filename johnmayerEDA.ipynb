{
 "cells": [
  {
   "cell_type": "code",
   "execution_count": 2,
   "metadata": {},
   "outputs": [],
   "source": [
    "import pandas as pd\n",
    "import numpy as np\n",
    "import matplotlib.pyplot as plt\n",
    "import seaborn as sns\n",
    "import plotly.express as px"
   ]
  },
  {
   "cell_type": "code",
   "execution_count": 3,
   "metadata": {},
   "outputs": [],
   "source": [
    "from pandas import read_csv\n",
    "\n",
    "john = read_csv(\"johnmayer_final.csv\")\n",
    "john = john.drop(john.columns[[0]], axis = 1)"
   ]
  },
  {
   "cell_type": "markdown",
   "metadata": {},
   "source": [
    "## Data Cleaning Portion"
   ]
  },
  {
   "cell_type": "code",
   "execution_count": 4,
   "metadata": {},
   "outputs": [],
   "source": [
    "from datetime import timedelta\n",
    "import pandas as pd\n",
    "\n",
    "# convert miliseconds to mm:ss notation\n",
    "john['duration'] = john['duration'] / 1000\n",
    "john['duration'] = pd.to_datetime(john[\"duration\"], unit='s').dt.strftime(\"%M:%S\")"
   ]
  },
  {
   "cell_type": "code",
   "execution_count": 5,
   "metadata": {},
   "outputs": [],
   "source": [
    "# convert all \"As/Is\" albums to just be the same album name (As/Is)\n",
    "\n",
    "john['album_name'] = john['album_name'].replace(to_replace='(As\\SIs.+)', value='As/Is', regex=True)\n",
    "\n",
    "# remove duplicate songs due to the As/Is combination\n",
    "john['name'] = john['name'].drop_duplicates(keep='first', inplace=False)\n",
    "john = john.dropna()\n"
   ]
  },
  {
   "cell_type": "code",
   "execution_count": 6,
   "metadata": {},
   "outputs": [
    {
     "data": {
      "text/html": [
       "<div>\n",
       "<style scoped>\n",
       "    .dataframe tbody tr th:only-of-type {\n",
       "        vertical-align: middle;\n",
       "    }\n",
       "\n",
       "    .dataframe tbody tr th {\n",
       "        vertical-align: top;\n",
       "    }\n",
       "\n",
       "    .dataframe thead th {\n",
       "        text-align: right;\n",
       "    }\n",
       "</style>\n",
       "<table border=\"1\" class=\"dataframe\">\n",
       "  <thead>\n",
       "    <tr style=\"text-align: right;\">\n",
       "      <th></th>\n",
       "      <th>name</th>\n",
       "      <th>album_name</th>\n",
       "      <th>release_date</th>\n",
       "      <th>popularity</th>\n",
       "      <th>duration</th>\n",
       "      <th>danceability</th>\n",
       "      <th>valence</th>\n",
       "      <th>tempo</th>\n",
       "      <th>key</th>\n",
       "      <th>acousticness</th>\n",
       "    </tr>\n",
       "  </thead>\n",
       "  <tbody>\n",
       "    <tr>\n",
       "      <th>32</th>\n",
       "      <td>On The Way Home</td>\n",
       "      <td>Paradise Valley</td>\n",
       "      <td>2013-08-20</td>\n",
       "      <td>45</td>\n",
       "      <td>03:59</td>\n",
       "      <td>0.6213</td>\n",
       "      <td>0.5714</td>\n",
       "      <td>123.6676</td>\n",
       "      <td>D</td>\n",
       "      <td>0.618</td>\n",
       "    </tr>\n",
       "  </tbody>\n",
       "</table>\n",
       "</div>"
      ],
      "text/plain": [
       "               name       album_name release_date  popularity duration  \\\n",
       "32  On The Way Home  Paradise Valley   2013-08-20          45    03:59   \n",
       "\n",
       "    danceability  valence     tempo key  acousticness  \n",
       "32        0.6213   0.5714  123.6676   D         0.618  "
      ]
     },
     "execution_count": 6,
     "metadata": {},
     "output_type": "execute_result"
    }
   ],
   "source": [
    "# impute values for song that didn't read in properly\n",
    "\n",
    "import warnings\n",
    "warnings.filterwarnings('ignore')\n",
    "\n",
    "# convert 0's to NANs to replace easier\n",
    "john['danceability'].replace(0, np.nan, inplace=True)\n",
    "john['valence'].replace(0, np.nan, inplace=True)\n",
    "john['tempo'].replace(0, np.nan, inplace=True)\n",
    "\n",
    "fill_mean = lambda g: g.fillna(g.mean()) # fill NA values using group means\n",
    "\n",
    "john = john.groupby('album_name').apply(fill_mean)\n",
    "\n",
    "# check\n",
    "john[john['name'] == 'On The Way Home'] "
   ]
  },
  {
   "cell_type": "code",
   "execution_count": 7,
   "metadata": {},
   "outputs": [],
   "source": [
    "# drop singles that aren't from albums\n",
    "\n",
    "john = john.drop(john.index[[177, 178, 179]])"
   ]
  },
  {
   "cell_type": "code",
   "execution_count": 8,
   "metadata": {},
   "outputs": [],
   "source": [
    "# shorten the album name to just \"Where the Light Is\" so it shows up better on viz\n",
    "\n",
    "john['album_name'] = john['album_name'].replace(to_replace='(Where.+)', value='Where The Light Is', regex=True)\n",
    "\n",
    "## spot for another written save if necessary\n",
    "#john.to_csv()"
   ]
  },
  {
   "cell_type": "markdown",
   "metadata": {},
   "source": [
    "## Data Exploration & Visualization"
   ]
  },
  {
   "cell_type": "code",
   "execution_count": 151,
   "metadata": {},
   "outputs": [
    {
     "data": {
      "image/png": "[encoded data removed]",
      "text/plain": [
       "<Figure size 1440x720 with 4 Axes>"
      ]
     },
     "metadata": {},
     "output_type": "display_data"
    }
   ],
   "source": [
    "sns.set_style('darkgrid')\n",
    "f, axs = plt.subplots(2, 2)\n",
    "sns.regplot(ax=axs[0, 0], x = 'danceability', y = 'popularity', data = john).set(title = 'Popularity vs. Danceability')\n",
    "sns.regplot(ax=axs[0, 1], x = 'acousticness', y = 'popularity', data = john).set(title = 'Popularity vs. Acousticness')\n",
    "sns.regplot(ax=axs[1, 0], x = 'valence', y = 'popularity', data = john).set(title = 'Popularity vs. Valence')\n",
    "sns.regplot(ax=axs[1, 1], x = 'tempo', y = 'popularity', data = john).set(title = 'Popularity vs. Tempo')\n",
    "\n",
    "plt.rcParams['figure.figsize'] = [20, 10]\n",
    "plt.show()"
   ]
  },
  {
   "cell_type": "code",
   "execution_count": 149,
   "metadata": {},
   "outputs": [
    {
     "data": {
      "application/vnd.plotly.v1+json": {
       "config": {
        "plotlyServerURL": "https://plot.ly"
       },
       "data": [
        {
         "customdata": [
          [
           "Last Train Home",
           "Sob Rock",
           "2021-07-16",
           "03:07",
           0.678,
           93.007,
           "E",
           0.235
          ],
          [
           "Shouldn't Matter but It Does",
           "Sob Rock",
           "2021-07-16",
           "03:56",
           0.268,
           80.888,
           "E",
           0.457
          ],
          [
           "New Light",
           "Sob Rock",
           "2021-07-16",
           "03:37",
           0.852,
           123.932,
           "G",
           0.316
          ],
          [
           "Why You No Love Me",
           "Sob Rock",
           "2021-07-16",
           "04:15",
           0.501,
           97.988,
           "A",
           0.387
          ],
          [
           "Wild Blue",
           "Sob Rock",
           "2021-07-16",
           "04:12",
           0.876,
           123.027,
           "C",
           0.557
          ],
          [
           "Shot in the Dark",
           "Sob Rock",
           "2021-07-16",
           "04:09",
           0.587,
           122.008,
           "D",
           0.0629
          ],
          [
           "I Guess I Just Feel Like",
           "Sob Rock",
           "2021-07-16",
           "04:46",
           0.166,
           159.952,
           "E",
           0.515
          ],
          [
           "Til the Right One Comes",
           "Sob Rock",
           "2021-07-16",
           "03:39",
           0.925,
           112.985,
           "D#/Eb",
           0.242
          ],
          [
           "Carry Me Away",
           "Sob Rock",
           "2021-07-16",
           "02:39",
           0.744,
           119.997,
           "E",
           0.0117
          ],
          [
           "All I Want Is to Be With You",
           "Sob Rock",
           "2021-07-16",
           "04:04",
           0.304,
           93.049,
           "C",
           0.106
          ]
         ],
         "hovertemplate": "album_name=%{customdata[1]}<br>danceability=%{x}<br>popularity=%{y}<br>name=%{customdata[0]}<br>release_date=%{customdata[2]}<br>duration=%{customdata[3]}<br>valence=%{customdata[4]}<br>tempo=%{customdata[5]}<br>key=%{customdata[6]}<br>acousticness=%{customdata[7]}<extra></extra>",
         "legendgroup": "Sob Rock",
         "marker": {
          "color": "#636efa",
          "symbol": "circle"
         },
         "mode": "markers",
         "name": "Sob Rock",
         "orientation": "v",
         "showlegend": true,
         "type": "scatter",
         "x": [
          0.591,
          0.549,
          0.826,
          0.635,
          0.816,
          0.741,
          0.548,
          0.807,
          0.677,
          0.522
         ],
         "xaxis": "x",
         "y": [
          67,
          62,
          75,
          58,
          63,
          62,
          69,
          60,
          64,
          58
         ],
         "yaxis": "y"
        },
        {
         "customdata": [
          [
           "Still Feel Like Your Man",
           "The Search for Everything",
           "2017-04-14",
           "03:54",
           0.515,
           106.023,
           "D",
           0.547
          ],
          [
           "Emoji of a Wave",
           "The Search for Everything",
           "2017-04-14",
           "03:59",
           0.191,
           165.764,
           "B",
           0.772
          ],
          [
           "Helpless",
           "The Search for Everything",
           "2017-04-14",
           "04:09",
           0.937,
           103.977,
           "A",
           0.151
          ],
          [
           "Love on the Weekend",
           "The Search for Everything",
           "2017-04-14",
           "03:32",
           0.422,
           119.971,
           "G",
           0.623
          ],
          [
           "In the Blood",
           "The Search for Everything",
           "2017-04-14",
           "04:03",
           0.518,
           80.007,
           "G#/Ab",
           0.386
          ],
          [
           "Changing",
           "The Search for Everything",
           "2017-04-14",
           "03:33",
           0.393,
           183.674,
           "C",
           0.583
          ],
          [
           "Theme from \"The Search for Everything\"",
           "The Search for Everything",
           "2017-04-14",
           "01:51",
           0.362,
           90.973,
           "G",
           0.896
          ],
          [
           "Moving On and Getting Over",
           "The Search for Everything",
           "2017-04-14",
           "04:25",
           0.621,
           94.037,
           "F#/Gb",
           0.591
          ],
          [
           "Never on the Day You Leave",
           "The Search for Everything",
           "2017-04-14",
           "03:40",
           0.22,
           139.888,
           "D",
           0.733
          ],
          [
           "Rosie",
           "The Search for Everything",
           "2017-04-14",
           "04:00",
           0.758,
           138.9,
           "G",
           0.489
          ],
          [
           "Roll it on Home",
           "The Search for Everything",
           "2017-04-14",
           "03:22",
           0.712,
           154.945,
           "D",
           0.623
          ],
          [
           "You're Gonna Live Forever in Me",
           "The Search for Everything",
           "2017-04-14",
           "03:10",
           0.319,
           136.161,
           "G",
           0.983
          ]
         ],
         "hovertemplate": "album_name=%{customdata[1]}<br>danceability=%{x}<br>popularity=%{y}<br>name=%{customdata[0]}<br>release_date=%{customdata[2]}<br>duration=%{customdata[3]}<br>valence=%{customdata[4]}<br>tempo=%{customdata[5]}<br>key=%{customdata[6]}<br>acousticness=%{customdata[7]}<extra></extra>",
         "legendgroup": "The Search for Everything",
         "marker": {
          "color": "#EF553B",
          "symbol": "circle"
         },
         "mode": "markers",
         "name": "The Search for Everything",
         "orientation": "v",
         "showlegend": true,
         "type": "scatter",
         "x": [
          0.858,
          0.494,
          0.76,
          0.718,
          0.546,
          0.43,
          0.595,
          0.85,
          0.536,
          0.758,
          0.612,
          0.542
         ],
         "xaxis": "x",
         "y": [
          59,
          56,
          55,
          65,
          61,
          53,
          45,
          57,
          55,
          59,
          53,
          73
         ],
         "yaxis": "y"
        },
        {
         "customdata": [
          [
           "Wildfire",
           "Paradise Valley",
           "2013-08-20",
           "04:13",
           0.763,
           96.999,
           "G#/Ab",
           0.15
          ],
          [
           "Dear Marie",
           "Paradise Valley",
           "2013-08-20",
           "03:42",
           0.494,
           94.999,
           "A",
           0.796
          ],
          [
           "Waitin' On The Day",
           "Paradise Valley",
           "2013-08-20",
           "04:33",
           0.305,
           119.996,
           "G",
           0.797
          ],
          [
           "Paper Doll",
           "Paradise Valley",
           "2013-08-20",
           "04:17",
           0.685,
           153.851,
           "G",
           0.521
          ],
          [
           "Call Me The Breeze",
           "Paradise Valley",
           "2013-08-20",
           "03:25",
           0.892,
           174.096,
           "C#/Db",
           0.424
          ],
          [
           "Who You Love (feat. Katy Perry)",
           "Paradise Valley",
           "2013-08-20",
           "04:09",
           0.691,
           145.907,
           "A",
           0.813
          ],
          [
           "I Will Be Found (Lost At Sea)",
           "Paradise Valley",
           "2013-08-20",
           "04:01",
           0.277,
           139.863,
           "F",
           0.415
          ],
          [
           "Wildfire (feat. Frank Ocean)",
           "Paradise Valley",
           "2013-08-20",
           "01:25",
           0.371,
           85.953,
           "G",
           0.893
          ],
          [
           "You're No One 'Til Someone Lets You Down",
           "Paradise Valley",
           "2013-08-20",
           "02:45",
           0.807,
           96.122,
           "C",
           0.306
          ],
          [
           "Badge And Gun",
           "Paradise Valley",
           "2013-08-20",
           "03:12",
           0.429,
           128.89,
           "G",
           0.863
          ],
          [
           "On The Way Home",
           "Paradise Valley",
           "2013-08-20",
           "03:59",
           0.5714,
           123.6676,
           "D",
           0.618
          ]
         ],
         "hovertemplate": "album_name=%{customdata[1]}<br>danceability=%{x}<br>popularity=%{y}<br>name=%{customdata[0]}<br>release_date=%{customdata[2]}<br>duration=%{customdata[3]}<br>valence=%{customdata[4]}<br>tempo=%{customdata[5]}<br>key=%{customdata[6]}<br>acousticness=%{customdata[7]}<extra></extra>",
         "legendgroup": "Paradise Valley",
         "marker": {
          "color": "#00cc96",
          "symbol": "circle"
         },
         "mode": "markers",
         "name": "Paradise Valley",
         "orientation": "v",
         "showlegend": true,
         "type": "scatter",
         "x": [
          0.719,
          0.601,
          0.656,
          0.658,
          0.628,
          0.694,
          0.563,
          0.505,
          0.578,
          0.611,
          0.6213
         ],
         "xaxis": "x",
         "y": [
          59,
          57,
          54,
          55,
          48,
          63,
          52,
          55,
          43,
          44,
          45
         ],
         "yaxis": "y"
        },
        {
         "customdata": [
          [
           "Queen of California",
           "Born and Raised",
           "2012-05-18",
           "04:10",
           0.707,
           83.048,
           "E",
           0.638
          ],
          [
           "The Age of Worry",
           "Born and Raised",
           "2012-05-18",
           "02:37",
           0.294,
           67.339,
           "G",
           0.342
          ],
          [
           "Shadow Days",
           "Born and Raised",
           "2012-05-18",
           "03:48",
           0.254,
           146.944,
           "D",
           0.0736
          ],
          [
           "Speak For Me",
           "Born and Raised",
           "2012-05-18",
           "03:44",
           0.173,
           112.951,
           "A",
           0.572
          ],
          [
           "Something Like Olivia",
           "Born and Raised",
           "2012-05-18",
           "03:00",
           0.638,
           98.795,
           "G",
           0.595
          ],
          [
           "Born and Raised",
           "Born and Raised",
           "2012-05-18",
           "04:47",
           0.313,
           131.8,
           "C",
           0.355
          ],
          [
           "If I Ever Get Around To Living",
           "Born and Raised",
           "2012-05-18",
           "05:21",
           0.316,
           80.014,
           "C",
           0.532
          ],
          [
           "Love Is A Verb",
           "Born and Raised",
           "2012-05-18",
           "02:24",
           0.461,
           65.977,
           "A",
           0.445
          ],
          [
           "Walt Grace's Submarine Test, January 1967",
           "Born and Raised",
           "2012-05-18",
           "05:07",
           0.281,
           159.887,
           "F#/Gb",
           0.798
          ],
          [
           "Whiskey, Whiskey, Whiskey",
           "Born and Raised",
           "2012-05-18",
           "04:38",
           0.185,
           113.108,
           "E",
           0.294
          ],
          [
           "A Face To Call Home",
           "Born and Raised",
           "2012-05-18",
           "04:45",
           0.275,
           136.071,
           "D",
           0.305
          ],
          [
           "Born and Raised - Reprise",
           "Born and Raised",
           "2012-05-18",
           "02:00",
           0.638,
           107.983,
           "G",
           0.646
          ]
         ],
         "hovertemplate": "album_name=%{customdata[1]}<br>danceability=%{x}<br>popularity=%{y}<br>name=%{customdata[0]}<br>release_date=%{customdata[2]}<br>duration=%{customdata[3]}<br>valence=%{customdata[4]}<br>tempo=%{customdata[5]}<br>key=%{customdata[6]}<br>acousticness=%{customdata[7]}<extra></extra>",
         "legendgroup": "Born and Raised",
         "marker": {
          "color": "#ab63fa",
          "symbol": "circle"
         },
         "mode": "markers",
         "name": "Born and Raised",
         "orientation": "v",
         "showlegend": true,
         "type": "scatter",
         "x": [
          0.536,
          0.508,
          0.52,
          0.687,
          0.771,
          0.656,
          0.559,
          0.738,
          0.44,
          0.414,
          0.529,
          0.71
         ],
         "xaxis": "x",
         "y": [
          58,
          52,
          51,
          45,
          61,
          55,
          47,
          58,
          49,
          47,
          46,
          42
         ],
         "yaxis": "y"
        },
        {
         "customdata": [
          [
           "Heartbreak Warfare",
           "Battle Studies",
           "2009-11-13",
           "04:29",
           0.311,
           97.031,
           "D",
           0.191
          ],
          [
           "All We Ever Do Is Say Goodbye",
           "Battle Studies",
           "2009-11-13",
           "04:35",
           0.327,
           129.881,
           "F",
           0.288
          ],
          [
           "Half of My Heart",
           "Battle Studies",
           "2009-11-13",
           "04:10",
           0.731,
           115.058,
           "F",
           0.435
          ],
          [
           "Who Says",
           "Battle Studies",
           "2009-11-13",
           "02:55",
           0.367,
           90.457,
           "D",
           0.267
          ],
          [
           "Perfectly Lonely",
           "Battle Studies",
           "2009-11-13",
           "04:28",
           0.678,
           91.779,
           "C",
           0.00987
          ],
          [
           "Assassin",
           "Battle Studies",
           "2009-11-13",
           "05:14",
           0.593,
           159.929,
           "B",
           0.302
          ],
          [
           "Crossroads",
           "Battle Studies",
           "2009-11-13",
           "02:29",
           0.916,
           114.216,
           "G",
           0.221
          ],
          [
           "War of My Life",
           "Battle Studies",
           "2009-11-13",
           "04:15",
           0.474,
           117.938,
           "F#/Gb",
           0.354
          ],
          [
           "Edge of Desire",
           "Battle Studies",
           "2009-11-13",
           "05:32",
           0.455,
           66.443,
           "A",
           0.326
          ],
          [
           "Do You Know Me",
           "Battle Studies",
           "2009-11-13",
           "02:30",
           0.272,
           79.929,
           "E",
           0.887
          ],
          [
           "Friends, Lovers or Nothing",
           "Battle Studies",
           "2009-11-13",
           "05:59",
           0.388,
           134.332,
           "A",
           0.0266
          ]
         ],
         "hovertemplate": "album_name=%{customdata[1]}<br>danceability=%{x}<br>popularity=%{y}<br>name=%{customdata[0]}<br>release_date=%{customdata[2]}<br>duration=%{customdata[3]}<br>valence=%{customdata[4]}<br>tempo=%{customdata[5]}<br>key=%{customdata[6]}<br>acousticness=%{customdata[7]}<extra></extra>",
         "legendgroup": "Battle Studies",
         "marker": {
          "color": "#FFA15A",
          "symbol": "circle"
         },
         "mode": "markers",
         "name": "Battle Studies",
         "orientation": "v",
         "showlegend": true,
         "type": "scatter",
         "x": [
          0.624,
          0.559,
          0.681,
          0.584,
          0.678,
          0.54,
          0.894,
          0.763,
          0.606,
          0.538,
          0.526
         ],
         "xaxis": "x",
         "y": [
          64,
          51,
          64,
          63,
          56,
          48,
          48,
          47,
          60,
          44,
          47
         ],
         "yaxis": "y"
        },
        {
         "customdata": [
          [
           "Neon - Live at the Nokia Theatre, Los Angeles, CA - December 2007",
           "Where The Light Is",
           "2008",
           "05:55",
           0.497,
           83.622,
           "C",
           0.48
          ],
          [
           "Stop This Train - Live at the Nokia Theatre, Los Angeles, CA - December 2007",
           "Where The Light Is",
           "2008",
           "05:00",
           0.363,
           91.882,
           "D",
           0.598
          ],
          [
           "In Your Atmosphere - Live at the Nokia Theatre, Los Angeles, CA - December 2007",
           "Where The Light Is",
           "2008",
           "05:45",
           0.297,
           92.72,
           "E",
           0.714
          ],
          [
           "Daughters - Live at the Nokia Theatre, Los Angeles, CA - December 2007",
           "Where The Light Is",
           "2008",
           "05:04",
           0.407,
           121.743,
           "D",
           0.766
          ],
          [
           "Free Fallin' - Live at the Nokia Theatre, Los Angeles, CA - December 2007",
           "Where The Light Is",
           "2008",
           "04:23",
           0.435,
           173.509,
           "F",
           0.771
          ],
          [
           "Everyday I Have The Blues - Live at the Nokia Theatre, Los Angeles, CA - December 2007",
           "Where The Light Is",
           "2008",
           "04:14",
           0.456,
           98.272,
           "C",
           0.00412
          ],
          [
           "Wait Until Tomorrow - Live at the Nokia Theatre, Los Angeles, CA - December 2007",
           "Where The Light Is",
           "2008",
           "04:19",
           0.738,
           117.92,
           "C#/Db",
           0.0151
          ],
          [
           "Who Did You Think I Was - Live at the Nokia Theatre, Los Angeles, CA - December 2007",
           "Where The Light Is",
           "2008",
           "04:23",
           0.448,
           96.474,
           "G",
           0.0139
          ],
          [
           "Come When I Call - Live at the Nokia Theatre, Los Angeles, CA - December 2007",
           "Where The Light Is",
           "2008",
           "03:23",
           0.658,
           112.984,
           "G",
           0.38
          ],
          [
           "Good Love Is On the Way - Live at the Nokia Theatre, Los Angeles, CA - December 2007",
           "Where The Light Is",
           "2008",
           "04:18",
           0.383,
           186.651,
           "D",
           0.011
          ],
          [
           "Out of My Mind - Live at the Nokia Theatre, Los Angeles, CA - December 2007",
           "Where The Light Is",
           "2008",
           "10:10",
           0.239,
           108.334,
           "G",
           0.403
          ],
          [
           "Vultures - Live at the Nokia Theatre, Los Angeles, CA - December 2007",
           "Where The Light Is",
           "2008",
           "05:19",
           0.609,
           99.939,
           "A",
           0.357
          ],
          [
           "Bold as Love - Live at the Nokia Theatre, Los Angeles, CA - December 2007",
           "Where The Light Is",
           "2008",
           "08:37",
           0.339,
           104.537,
           "C#/Db",
           0.05
          ],
          [
           "Waiting On the World to Change - Live at the Nokia Theatre, Los Angeles, CA - December 2007",
           "Where The Light Is",
           "2008",
           "03:50",
           0.537,
           88.194,
           "D",
           0.144
          ],
          [
           "Slow Dancing in a Burning Room - Live at the Nokia Theatre, Los Angeles, CA - December 2007",
           "Where The Light Is",
           "2008",
           "05:19",
           0.453,
           133.861,
           "C#/Db",
           0.2
          ],
          [
           "Why Georgia - Live at the Nokia Theatre, Los Angeles, CA - December 2007",
           "Where The Light Is",
           "2008",
           "04:27",
           0.418,
           99.429,
           "G",
           0.0217
          ],
          [
           "The Heart of Life - Live at the Nokia Theatre, Los Angeles, CA - December 2007",
           "Where The Light Is",
           "2008",
           "03:40",
           0.33,
           180.805,
           "C#/Db",
           0.776
          ],
          [
           "I Don't Need No Doctor - Live at the Nokia Theatre, Los Angeles, CA - December 2007",
           "Where The Light Is",
           "2008",
           "06:02",
           0.57,
           172.183,
           "B",
           0.0575
          ],
          [
           "Gravity - Live at the Nokia Theatre, Los Angeles, CA - December 2007",
           "Where The Light Is",
           "2008",
           "09:41",
           0.295,
           115.802,
           "G",
           0.614
          ],
          [
           "I Don't Trust Myself (With Loving You) - Live at the Nokia Theatre, Los Angeles, CA - December 2007",
           "Where The Light Is",
           "2008",
           "08:44",
           0.462,
           83.945,
           "A",
           0.441
          ],
          [
           "Belief - Live at the Nokia Theatre, Los Angeles, CA - December 2007",
           "Where The Light Is",
           "2008",
           "06:03",
           0.387,
           101.245,
           "D",
           0.273
          ],
          [
           "I'm Gonna Find Another You - Live at the Nokia Theatre, Los Angeles, CA - December 2007",
           "Where The Light Is",
           "2008",
           "05:40",
           0.36,
           143.646,
           "A",
           0.725
          ]
         ],
         "hovertemplate": "album_name=%{customdata[1]}<br>danceability=%{x}<br>popularity=%{y}<br>name=%{customdata[0]}<br>release_date=%{customdata[2]}<br>duration=%{customdata[3]}<br>valence=%{customdata[4]}<br>tempo=%{customdata[5]}<br>key=%{customdata[6]}<br>acousticness=%{customdata[7]}<extra></extra>",
         "legendgroup": "Where The Light Is",
         "marker": {
          "color": "#19d3f3",
          "symbol": "circle"
         },
         "mode": "markers",
         "name": "Where The Light Is",
         "orientation": "v",
         "showlegend": true,
         "type": "scatter",
         "x": [
          0.435,
          0.426,
          0.372,
          0.546,
          0.315,
          0.356,
          0.491,
          0.249,
          0.787,
          0.227,
          0.394,
          0.745,
          0.385,
          0.544,
          0.514,
          0.421,
          0.258,
          0.25,
          0.46,
          0.605,
          0.592,
          0.391
         ],
         "xaxis": "x",
         "y": [
          53,
          51,
          56,
          50,
          71,
          45,
          45,
          46,
          45,
          46,
          44,
          48,
          44,
          46,
          54,
          47,
          45,
          46,
          52,
          47,
          46,
          44
         ],
         "yaxis": "y"
        },
        {
         "customdata": [
          [
           "Waiting On the World to Change",
           "Continuum",
           "2006-09-11",
           "03:21",
           0.663,
           176.739,
           "D",
           0.157
          ],
          [
           "I Don't Trust Myself (With Loving You)",
           "Continuum",
           "2006-09-11",
           "04:52",
           0.604,
           84.026,
           "A",
           0.638
          ],
          [
           "Belief",
           "Continuum",
           "2006-09-11",
           "04:02",
           0.841,
           101.346,
           "F",
           0.033
          ],
          [
           "Gravity",
           "Continuum",
           "2006-09-11",
           "04:05",
           0.237,
           123.799,
           "G",
           0.731
          ],
          [
           "The Heart of Life",
           "Continuum",
           "2006-09-11",
           "03:18",
           0.357,
           175.958,
           "C#/Db",
           0.958
          ],
          [
           "Vultures",
           "Continuum",
           "2006-09-11",
           "04:10",
           0.803,
           97.807,
           "E",
           0.476
          ],
          [
           "Stop This Train",
           "Continuum",
           "2006-09-11",
           "04:45",
           0.408,
           89.508,
           "G",
           0.465
          ],
          [
           "Slow Dancing in a Burning Room",
           "Continuum",
           "2006-09-11",
           "04:02",
           0.29,
           134.018,
           "C#/Db",
           0.575
          ],
          [
           "Bold as Love",
           "Continuum",
           "2006-09-11",
           "04:18",
           0.4,
           125.897,
           "C#/Db",
           0.0995
          ],
          [
           "Dreaming with a Broken Heart",
           "Continuum",
           "2006-09-11",
           "04:05",
           0.155,
           136.012,
           "C",
           0.554
          ],
          [
           "In Repair",
           "Continuum",
           "2006-09-11",
           "06:07",
           0.394,
           145.099,
           "D",
           0.0538
          ],
          [
           "I'm Gonna Find Another You",
           "Continuum",
           "2006-09-11",
           "02:43",
           0.269,
           75.328,
           "A",
           0.821
          ]
         ],
         "hovertemplate": "album_name=%{customdata[1]}<br>danceability=%{x}<br>popularity=%{y}<br>name=%{customdata[0]}<br>release_date=%{customdata[2]}<br>duration=%{customdata[3]}<br>valence=%{customdata[4]}<br>tempo=%{customdata[5]}<br>key=%{customdata[6]}<br>acousticness=%{customdata[7]}<extra></extra>",
         "legendgroup": "Continuum",
         "marker": {
          "color": "#FF6692",
          "symbol": "circle"
         },
         "mode": "markers",
         "name": "Continuum",
         "orientation": "v",
         "showlegend": true,
         "type": "scatter",
         "x": [
          0.578,
          0.842,
          0.664,
          0.753,
          0.495,
          0.881,
          0.619,
          0.667,
          0.439,
          0.61,
          0.427,
          0.511
         ],
         "xaxis": "x",
         "y": [
          72,
          56,
          55,
          71,
          62,
          57,
          63,
          73,
          52,
          61,
          51,
          55
         ],
         "yaxis": "y"
        },
        {
         "customdata": [
          [
           "Only Heart - Live at Blossom Music Center, Cleveland, Ohio, August 3, 2004",
           "As/Is",
           "2004-10-19",
           "05:12",
           0.782,
           122.709,
           "G",
           0.000524
          ],
          [
           "My Stupid Mouth - Live at Tweeter Center, Philadelphia, Pennsylvania, August 2004",
           "As/Is",
           "2004-10-19",
           "04:49",
           0.467,
           90.758,
           "D",
           0.11
          ],
          [
           "No Such Thing - Live at Cynthia Woods Mitchell Pavilion, Woodlands, Texas, July 24, 2004",
           "As/Is",
           "2004-10-19",
           "03:54",
           0.56,
           133.551,
           "A",
           0.00469
          ],
          [
           "Covered in Rain - Live at Tweeter Center, Philadelphia, Pennsylvania, August 2004",
           "As/Is",
           "2004-10-19",
           "08:51",
           0.298,
           137.348,
           "A#/Bb",
           0.00987
          ],
          [
           "Split Screen Sadness - Live at Shoreline Amphitheater, Mountain View, CA, July 16, 2004",
           "As/Is",
           "2004-10-19",
           "05:57",
           0.245,
           107.985,
           "G",
           0.0514
          ],
          [
           "Blues Intro - Live at Cynthia Woods Mitchell Pavilion, Woodlands, Texas, July 24, 2004",
           "As/Is",
           "2004-10-19",
           "03:15",
           0.787,
           156.963,
           "F",
           0.0195
          ],
          [
           "Come Back to Bed - Live at Cynthia Woods Mitchell Pavilion, Woodlands, Texas, July 24, 2004",
           "As/Is",
           "2004-10-19",
           "11:57",
           0.33,
           115.695,
           "A",
           0.0475
          ],
          [
           "Your Body Is a Wonderland - Live at Cynthia Woods Mitchell Pavilion, Woodlands, Texas, July 24, 2004",
           "As/Is",
           "2004-10-19",
           "04:09",
           0.591,
           95.031,
           "F",
           0.0339
          ],
          [
           "Something's Missing - Live at Riverbend Music Center, Cincinnati, Ohio, August 3, 2004",
           "As/Is",
           "2004-10-19",
           "09:03",
           0.285,
           152.508,
           "C#/Db",
           0.0195
          ],
          [
           "Inner City Blues (Make Me Wanna Holler) - Live at Sandstone Amphitheater, Bonner Springs, Kansas, July 27, 2004",
           "As/Is",
           "2004-10-19",
           "07:00",
           0.632,
           94.36,
           "A#/Bb",
           0.192
          ],
          [
           "Clarity - Live at Blossom Music Center, Cleveland, Ohio, August 3, 2004",
           "As/Is",
           "2004-10-19",
           "09:09",
           0.361,
           94.77,
           "B",
           0.00818
          ],
          [
           "3x5 - Live at Blossom Music Center, Cleveland, Ohio, August 3, 2004",
           "As/Is",
           "2004-10-19",
           "05:49",
           0.377,
           99.749,
           "G#/Ab",
           0.234
          ],
          [
           "Home Life - Acoustic - Live at Shoreline Amphitheater, Mountain View, CA, July 16, 2004",
           "As/Is",
           "2004-10-19",
           "06:53",
           0.381,
           111.465,
           "A#/Bb",
           0.692
          ],
          [
           "Comfortable - Live at Cynthia Woods Mitchell Pavilion, Woodlands, Texas, July 24, 2004",
           "As/Is",
           "2004-10-19",
           "04:57",
           0.293,
           171.081,
           "F",
           0.671
          ],
          [
           "Neon - Live at Cynthia Woods Mitchell Pavilion, Woodlands, Texas, July 24, 2004",
           "As/Is",
           "2004-10-19",
           "05:05",
           0.577,
           110.464,
           "G#/Ab",
           0.5
          ],
          [
           "New Deep - Live at Blossom Music Center, Cleveland, Ohio, August 3, 2004",
           "As/Is",
           "2004-09-28",
           "05:30",
           0.795,
           147.369,
           "D",
           0.264
          ],
          [
           "No Such Thing - Live in Ohio, August 2004",
           "As/Is",
           "2004-09-28",
           "03:56",
           0.426,
           132.291,
           "A",
           0.0159
          ],
          [
           "My Stupid Mouth - Live in Ohio, August 2004",
           "As/Is",
           "2004-09-28",
           "04:12",
           0.434,
           90.306,
           "G",
           0.123
          ],
          [
           "Daughters - Live in Ohio, August 2004",
           "As/Is",
           "2004-09-28",
           "08:17",
           0.203,
           122.058,
           "A",
           0.098
          ],
          [
           "Quiet - Live in Ohio, August 2004",
           "As/Is",
           "2004-09-28",
           "03:44",
           0.157,
           118.62,
           "B",
           0.334
          ],
          [
           "Wheel - Live in Ohio, August 2004",
           "As/Is",
           "2004-09-28",
           "06:57",
           0.42,
           112.34,
           "F",
           0.0162
          ],
          [
           "Clarity - Live at Cynthia Woods Mitchell Pavilion, Woodlands, Texas, July 24, 2004",
           "As/Is",
           "2004-09-21",
           "06:04",
           0.38,
           94.831,
           "B",
           0.0219
          ],
          [
           "Back to You - Live at Cynthia Woods Mitchell Pavilion, Woodlands, Texas, July 24, 2004",
           "As/Is",
           "2004-09-21",
           "04:42",
           0.57,
           102.394,
           "F#/Gb",
           0.00752
          ],
          [
           "Daughters - Live at Cynthia Woods Mitchell Pavilion, Woodlands, Texas, July 24, 2004",
           "As/Is",
           "2004-09-21",
           "05:56",
           0.237,
           126.28,
           "D",
           0.269
          ],
          [
           "Bigger Than My Body - Live at Cynthia Woods Mitchell Pavilion, Woodlands, Texas, July 24, 2004",
           "As/Is",
           "2004-09-21",
           "06:17",
           0.591,
           118.222,
           "A",
           0.000912
          ],
          [
           "Your Body Is a Wonderland - Live in Philadelphia, PA & Hartford, CT, August 2004",
           "As/Is",
           "2004-08-31",
           "04:34",
           0.618,
           95.11,
           "F",
           0.0537
          ],
          [
           "Only Heart - Live in Philadelphia, PA & Hartford, CT, August 2004",
           "As/Is",
           "2004-08-31",
           "06:06",
           0.651,
           123.675,
           "F",
           0.0034
          ],
          [
           "Something's Missing - Live in Philadelphia, PA & Hartford, CT, August 2004",
           "As/Is",
           "2004-08-31",
           "06:30",
           0.448,
           150.629,
           "C#/Db",
           0.00381
          ],
          [
           "New Deep - Live in Philadelphia, PA & Hartford, CT, August 2004",
           "As/Is",
           "2004-08-31",
           "04:27",
           0.847,
           146.371,
           "D",
           0.104
          ],
          [
           "Daughters - Live in Philadelphia, PA & Hartford, CT, August 2004",
           "As/Is",
           "2004-08-31",
           "06:43",
           0.18,
           120.399,
           "A",
           0.764
          ],
          [
           "Come Back to Bed - Live in Philadelphia, PA & Hartford, CT, August 2004",
           "As/Is",
           "2004-08-31",
           "08:14",
           0.311,
           117.519,
           "D",
           0.0761
          ],
          [
           "83 - Live in Philadelphia, PA & Hartford, CT, August 2004",
           "As/Is",
           "2004-08-31",
           "08:29",
           0.49,
           125.265,
           "D",
           0.0115
          ],
          [
           "Hummingbird - Live in Philadelphia, PA & Hartford, CT, August 2004",
           "As/Is",
           "2004-08-31",
           "04:14",
           0.358,
           153.457,
           "C#/Db",
           0.681
          ],
          [
           "No Such Thing - Live at Shoreline Amphitheater, Mountain View, CA, July 16, 2004",
           "As/Is",
           "2004-08-10",
           "04:36",
           0.503,
           131.462,
           "A",
           0.13
          ],
          [
           "Come Back to Bed - Live at Shoreline Amphitheater, Mountain View, CA, July 16, 2004",
           "As/Is",
           "2004-08-10",
           "07:12",
           0.348,
           114.952,
           "A",
           0.00591
          ],
          [
           "Something's Missing - Live at Shoreline Amphitheater, Mountain View, CA, July 16, 2004",
           "As/Is",
           "2004-08-10",
           "09:56",
           0.322,
           149.103,
           "C#/Db",
           0.081
          ],
          [
           "New Deep - Live at Shoreline Amphitheater, Mountain View, CA, July 16, 2004",
           "As/Is",
           "2004-08-10",
           "05:38",
           0.703,
           147.106,
           "D",
           0.205
          ],
          [
           "Why Georgia - Live at Shoreline Amphitheater, Mountain View, CA, July 16, 2004",
           "As/Is",
           "2004-08-10",
           "05:14",
           0.45,
           98.698,
           "G",
           0.0133
          ],
          [
           "Bigger Than My Body - Live at Shoreline Amphitheater, Mountain View, CA, July 16, 2004",
           "As/Is",
           "2004-08-10",
           "07:11",
           0.435,
           118.213,
           "A",
           0.00178
          ],
          [
           "Tracing - Acoustic - Live at Shoreline Amphitheater, Mountain View, CA, July 16, 2004",
           "As/Is",
           "2004-08-10",
           "03:51",
           0.434,
           91.768,
           "D",
           0.742
          ],
          [
           "Comfortable - Acoustic - Live at Shoreline Amphitheater, Mountain View, CA, July 16, 2004",
           "As/Is",
           "2004-08-10",
           "06:21",
           0.298,
           179.448,
           "F",
           0.81
          ]
         ],
         "hovertemplate": "album_name=%{customdata[1]}<br>danceability=%{x}<br>popularity=%{y}<br>name=%{customdata[0]}<br>release_date=%{customdata[2]}<br>duration=%{customdata[3]}<br>valence=%{customdata[4]}<br>tempo=%{customdata[5]}<br>key=%{customdata[6]}<br>acousticness=%{customdata[7]}<extra></extra>",
         "legendgroup": "As/Is",
         "marker": {
          "color": "#B6E880",
          "symbol": "circle"
         },
         "mode": "markers",
         "name": "As/Is",
         "orientation": "v",
         "showlegend": true,
         "type": "scatter",
         "x": [
          0.527,
          0.41,
          0.466,
          0.471,
          0.535,
          0.545,
          0.426,
          0.59,
          0.354,
          0.568,
          0.464,
          0.314,
          0.424,
          0.282,
          0.431,
          0.512,
          0.459,
          0.432,
          0.452,
          0.372,
          0.495,
          0.556,
          0.445,
          0.524,
          0.52,
          0.534,
          0.534,
          0.352,
          0.555,
          0.451,
          0.418,
          0.595,
          0.313,
          0.465,
          0.46,
          0.424,
          0.565,
          0.424,
          0.532,
          0.314,
          0.256
         ],
         "xaxis": "x",
         "y": [
          26,
          25,
          25,
          31,
          25,
          28,
          27,
          27,
          24,
          28,
          25,
          25,
          23,
          24,
          24,
          23,
          21,
          21,
          23,
          21,
          24,
          0,
          0,
          0,
          0,
          24,
          21,
          22,
          21,
          21,
          22,
          21,
          26,
          22,
          22,
          22,
          20,
          23,
          21,
          25,
          22
         ],
         "yaxis": "y"
        },
        {
         "customdata": [
          [
           "Clarity",
           "Heavier Things",
           "2003-09-09",
           "04:31",
           0.491,
           94.699,
           "D",
           0.173
          ],
          [
           "Bigger Than My Body",
           "Heavier Things",
           "2003-09-09",
           "04:25",
           0.515,
           117.304,
           "E",
           0.0121
          ],
          [
           "Something's Missing",
           "Heavier Things",
           "2003-09-09",
           "05:04",
           0.531,
           152.029,
           "C#/Db",
           0.0989
          ],
          [
           "New Deep",
           "Heavier Things",
           "2003-09-09",
           "04:07",
           0.859,
           144.993,
           "D",
           0.15
          ],
          [
           "Come Back to Bed",
           "Heavier Things",
           "2003-09-09",
           "05:23",
           0.354,
           114.438,
           "A",
           0.394
          ],
          [
           "Home Life",
           "Heavier Things",
           "2003-09-09",
           "04:13",
           0.605,
           105.982,
           "C",
           0.0043
          ],
          [
           "Split Screen Sadness",
           "Heavier Things",
           "2003-09-09",
           "05:06",
           0.331,
           107.989,
           "G",
           0.0249
          ],
          [
           "Daughters",
           "Heavier Things",
           "2003-09-09",
           "03:57",
           0.503,
           124.893,
           "D",
           0.836
          ],
          [
           "Only Heart",
           "Heavier Things",
           "2003-09-09",
           "03:48",
           0.951,
           120.946,
           "F",
           0.0377
          ],
          [
           "Wheel",
           "Heavier Things",
           "2003-09-09",
           "05:32",
           0.226,
           117.178,
           "A#/Bb",
           0.551
          ]
         ],
         "hovertemplate": "album_name=%{customdata[1]}<br>danceability=%{x}<br>popularity=%{y}<br>name=%{customdata[0]}<br>release_date=%{customdata[2]}<br>duration=%{customdata[3]}<br>valence=%{customdata[4]}<br>tempo=%{customdata[5]}<br>key=%{customdata[6]}<br>acousticness=%{customdata[7]}<extra></extra>",
         "legendgroup": "Heavier Things",
         "marker": {
          "color": "#FF97FF",
          "symbol": "circle"
         },
         "mode": "markers",
         "name": "Heavier Things",
         "orientation": "v",
         "showlegend": true,
         "type": "scatter",
         "x": [
          0.665,
          0.608,
          0.545,
          0.708,
          0.482,
          0.677,
          0.635,
          0.674,
          0.665,
          0.582
         ],
         "xaxis": "x",
         "y": [
          56,
          52,
          49,
          42,
          49,
          40,
          48,
          66,
          42,
          45
         ],
         "yaxis": "y"
        },
        {
         "customdata": [
          [
           "3x5 - Live at the Oak Mountain Amphitheater, Birmingham, AL - September 2002",
           "Any Given Thursday",
           "2003-01-30",
           "08:05",
           0.359,
           99.268,
           "F",
           0.148
          ],
          [
           "No Such Thing - Live at the Oak Mountain Amphitheater, Birmingham, AL - September 2002",
           "Any Given Thursday",
           "2003-01-30",
           "04:46",
           0.464,
           135.599,
           "A",
           0.108
          ],
          [
           "Back to You - Live at the Oak Mountain Amphitheater, Birmingham, AL - September 2002",
           "Any Given Thursday",
           "2003-01-30",
           "04:36",
           0.652,
           105.684,
           "F#/Gb",
           0.0855
          ],
          [
           "City Love - Live at the Oak Mountain Amphitheater, Birmingham, AL - September 2002",
           "Any Given Thursday",
           "2003-01-30",
           "05:11",
           0.579,
           133.525,
           "G",
           0.163
          ],
          [
           "Something's Missing - Live at the Oak Mountain Amphitheater, Birmingham, AL - September 2002",
           "Any Given Thursday",
           "2003-01-30",
           "06:47",
           0.493,
           76.558,
           "E",
           0.0708
          ],
          [
           "Lenny / Man On the Side - Live at the Oak Mountain Amphitheater, Birmingham, AL - September 2002",
           "Any Given Thursday",
           "2003-01-30",
           "08:46",
           0.352,
           120.211,
           "E",
           0.803
          ],
          [
           "Message In a Bottle - Live at the Oak Mountain Amphitheater, Birmingham, AL - September 2002",
           "Any Given Thursday",
           "2003-01-30",
           "05:06",
           0.449,
           129.972,
           "A",
           0.241
          ],
          [
           "Love Song for No One - Live at the Oak Mountain Amphitheater, Birmingham, AL - September 2002",
           "Any Given Thursday",
           "2003-01-30",
           "03:35",
           0.509,
           147.288,
           "D",
           0.0698
          ],
          [
           "Why Georgia - Live at the Oak Mountain Amphitheater, Birmingham, AL - September 2002",
           "Any Given Thursday",
           "2003-01-30",
           "08:24",
           0.579,
           98.337,
           "G",
           0.0245
          ],
          [
           "Your Body Is a Wonderland - Live at the Oak Mountain Amphitheater, Birmingham, AL - September 2002",
           "Any Given Thursday",
           "2003-01-30",
           "06:05",
           0.782,
           97.928,
           "F",
           0.0399
          ],
          [
           "My Stupid Mouth - Live at the Oak Mountain Amphitheater, Birmingham, AL - September 2002",
           "Any Given Thursday",
           "2003-01-30",
           "05:02",
           0.546,
           92.319,
           "D",
           0.112
          ],
          [
           "Covered in Rain - Live at the Oak Mountain Amphitheater, Birmingham, AL - September 2002",
           "Any Given Thursday",
           "2003-01-30",
           "10:25",
           0.549,
           137.96,
           "A#/Bb",
           0.0462
          ],
          [
           "83 Medley - Live at the Oak Mountain Amphitheater, Birmingham, AL - September 2002",
           "Any Given Thursday",
           "2003-01-30",
           "07:29",
           0.602,
           130.312,
           "D",
           0.0985
          ],
          [
           "Comfortable - Live at the Oak Mountain Amphitheater, Birmingham, AL - September 2002",
           "Any Given Thursday",
           "2003-01-30",
           "07:37",
           0.277,
           181.957,
           "F",
           0.507
          ],
          [
           "Neon - Live at the Oak Mountain Amphitheater, Birmingham, AL - September 2002",
           "Any Given Thursday",
           "2003-01-30",
           "10:22",
           0.726,
           107.416,
           "F",
           0.0411
          ]
         ],
         "hovertemplate": "album_name=%{customdata[1]}<br>danceability=%{x}<br>popularity=%{y}<br>name=%{customdata[0]}<br>release_date=%{customdata[2]}<br>duration=%{customdata[3]}<br>valence=%{customdata[4]}<br>tempo=%{customdata[5]}<br>key=%{customdata[6]}<br>acousticness=%{customdata[7]}<extra></extra>",
         "legendgroup": "Any Given Thursday",
         "marker": {
          "color": "#FECB52",
          "symbol": "circle"
         },
         "mode": "markers",
         "name": "Any Given Thursday",
         "orientation": "v",
         "showlegend": true,
         "type": "scatter",
         "x": [
          0.269,
          0.434,
          0.431,
          0.518,
          0.49,
          0.438,
          0.527,
          0.276,
          0.376,
          0.56,
          0.465,
          0.445,
          0.435,
          0.205,
          0.487
         ],
         "xaxis": "x",
         "y": [
          31,
          30,
          31,
          31,
          30,
          36,
          38,
          29,
          31,
          31,
          27,
          42,
          29,
          29,
          29
         ],
         "yaxis": "y"
        },
        {
         "customdata": [
          [
           "No Such Thing",
           "Room For Squares",
           "2001-08-16",
           "03:51",
           0.571,
           131.918,
           "E",
           0.0383
          ],
          [
           "Why Georgia",
           "Room For Squares",
           "2001-08-16",
           "04:28",
           0.369,
           96.915,
           "G",
           0.0208
          ],
          [
           "My Stupid Mouth",
           "Room For Squares",
           "2001-08-16",
           "03:43",
           0.49,
           88.824,
           "D",
           0.0143
          ],
          [
           "Your Body Is a Wonderland",
           "Room For Squares",
           "2001-08-16",
           "04:09",
           0.687,
           94.01,
           "F",
           0.0206
          ],
          [
           "Neon",
           "Room For Squares",
           "2001-08-16",
           "04:22",
           0.589,
           101.984,
           "F",
           0.0181
          ],
          [
           "City Love",
           "Room For Squares",
           "2001-08-16",
           "04:00",
           0.411,
           67.604,
           "F",
           0.00576
          ],
          [
           "83",
           "Room For Squares",
           "2001-08-16",
           "04:50",
           0.699,
           121.972,
           "D",
           0.0677
          ],
          [
           "3x5",
           "Room For Squares",
           "2001-08-16",
           "04:49",
           0.59,
           96.994,
           "F",
           0.0847
          ],
          [
           "Love Song for No One",
           "Room For Squares",
           "2001-08-16",
           "03:21",
           0.432,
           144.024,
           "D",
           0.0352
          ],
          [
           "Back to You",
           "Room For Squares",
           "2001-08-16",
           "04:01",
           0.521,
           101.94,
           "F#/Gb",
           0.00698
          ],
          [
           "Great Indoors",
           "Room For Squares",
           "2001-08-16",
           "03:36",
           0.48,
           109.956,
           "C",
           0.0157
          ],
          [
           "Not Myself",
           "Room For Squares",
           "2001-08-16",
           "03:36",
           0.226,
           89.991,
           "C#/Db",
           0.0274
          ],
          [
           "St. Patrick's Day",
           "Room For Squares",
           "2001-08-16",
           "05:21",
           0.127,
           127.89,
           "A",
           0.0502
          ]
         ],
         "hovertemplate": "album_name=%{customdata[1]}<br>danceability=%{x}<br>popularity=%{y}<br>name=%{customdata[0]}<br>release_date=%{customdata[2]}<br>duration=%{customdata[3]}<br>valence=%{customdata[4]}<br>tempo=%{customdata[5]}<br>key=%{customdata[6]}<br>acousticness=%{customdata[7]}<extra></extra>",
         "legendgroup": "Room For Squares",
         "marker": {
          "color": "#636efa",
          "symbol": "circle"
         },
         "mode": "markers",
         "name": "Room For Squares",
         "orientation": "v",
         "showlegend": true,
         "type": "scatter",
         "x": [
          0.668,
          0.608,
          0.608,
          0.647,
          0.699,
          0.651,
          0.704,
          0.502,
          0.528,
          0.571,
          0.591,
          0.539,
          0.597
         ],
         "xaxis": "x",
         "y": [
          62,
          63,
          54,
          73,
          58,
          46,
          45,
          46,
          44,
          53,
          42,
          43,
          46
         ],
         "yaxis": "y"
        },
        {
         "customdata": [
          [
           "Back To You - EP Version",
           "Inside Wants Out",
           "1999-09-24",
           "03:57",
           0.532,
           99.374,
           "F#/Gb",
           0.0746
          ],
          [
           "No Such Thing - Demo Version",
           "Inside Wants Out",
           "1999-09-24",
           "03:49",
           0.494,
           129.146,
           "A",
           0.785
          ],
          [
           "My Stupid Mouth - Demo Version",
           "Inside Wants Out",
           "1999-09-24",
           "04:14",
           0.427,
           175.131,
           "D",
           0.794
          ],
          [
           "Neon - EP Version",
           "Inside Wants Out",
           "1999-09-24",
           "03:52",
           0.814,
           109.082,
           "A#/Bb",
           0.833
          ],
          [
           "Victoria - EP Version",
           "Inside Wants Out",
           "1999-09-24",
           "03:47",
           0.219,
           72.891,
           "G",
           0.865
          ],
          [
           "Love Soon - EP Version",
           "Inside Wants Out",
           "1999-09-24",
           "03:37",
           0.564,
           97.304,
           "C",
           0.836
          ],
          [
           "Comfortable - EP Version",
           "Inside Wants Out",
           "1999-09-24",
           "04:59",
           0.114,
           84.73,
           "F",
           0.806
          ],
          [
           "Quiet - EP Version",
           "Inside Wants Out",
           "1999-09-24",
           "03:20",
           0.126,
           103.23,
           "F#/Gb",
           0.775
          ]
         ],
         "hovertemplate": "album_name=%{customdata[1]}<br>danceability=%{x}<br>popularity=%{y}<br>name=%{customdata[0]}<br>release_date=%{customdata[2]}<br>duration=%{customdata[3]}<br>valence=%{customdata[4]}<br>tempo=%{customdata[5]}<br>key=%{customdata[6]}<br>acousticness=%{customdata[7]}<extra></extra>",
         "legendgroup": "Inside Wants Out",
         "marker": {
          "color": "#EF553B",
          "symbol": "circle"
         },
         "mode": "markers",
         "name": "Inside Wants Out",
         "orientation": "v",
         "showlegend": true,
         "type": "scatter",
         "x": [
          0.602,
          0.642,
          0.414,
          0.592,
          0.682,
          0.701,
          0.328,
          0.557
         ],
         "xaxis": "x",
         "y": [
          36,
          42,
          36,
          37,
          37,
          36,
          48,
          38
         ],
         "yaxis": "y"
        }
       ],
       "layout": {
        "legend": {
         "title": {
          "text": "album_name"
         },
         "tracegroupgap": 0
        },
        "margin": {
         "t": 60
        },
        "template": {
         "data": {
          "bar": [
           {
            "error_x": {
             "color": "#2a3f5f"
            },
            "error_y": {
             "color": "#2a3f5f"
            },
            "marker": {
             "line": {
              "color": "#E5ECF6",
              "width": 0.5
             },
             "pattern": {
              "fillmode": "overlay",
              "size": 10,
              "solidity": 0.2
             }
            },
            "type": "bar"
           }
          ],
          "barpolar": [
           {
            "marker": {
             "line": {
              "color": "#E5ECF6",
              "width": 0.5
             },
             "pattern": {
              "fillmode": "overlay",
              "size": 10,
              "solidity": 0.2
             }
            },
            "type": "barpolar"
           }
          ],
          "carpet": [
           {
            "aaxis": {
             "endlinecolor": "#2a3f5f",
             "gridcolor": "white",
             "linecolor": "white",
             "minorgridcolor": "white",
             "startlinecolor": "#2a3f5f"
            },
            "baxis": {
             "endlinecolor": "#2a3f5f",
             "gridcolor": "white",
             "linecolor": "white",
             "minorgridcolor": "white",
             "startlinecolor": "#2a3f5f"
            },
            "type": "carpet"
           }
          ],
          "choropleth": [
           {
            "colorbar": {
             "outlinewidth": 0,
             "ticks": ""
            },
            "type": "choropleth"
           }
          ],
          "contour": [
           {
            "colorbar": {
             "outlinewidth": 0,
             "ticks": ""
            },
            "colorscale": [
             [
              0,
              "#0d0887"
             ],
             [
              0.1111111111111111,
              "#46039f"
             ],
             [
              0.2222222222222222,
              "#7201a8"
             ],
             [
              0.3333333333333333,
              "#9c179e"
             ],
             [
              0.4444444444444444,
              "#bd3786"
             ],
             [
              0.5555555555555556,
              "#d8576b"
             ],
             [
              0.6666666666666666,
              "#ed7953"
             ],
             [
              0.7777777777777778,
              "#fb9f3a"
             ],
             [
              0.8888888888888888,
              "#fdca26"
             ],
             [
              1,
              "#f0f921"
             ]
            ],
            "type": "contour"
           }
          ],
          "contourcarpet": [
           {
            "colorbar": {
             "outlinewidth": 0,
             "ticks": ""
            },
            "type": "contourcarpet"
           }
          ],
          "heatmap": [
           {
            "colorbar": {
             "outlinewidth": 0,
             "ticks": ""
            },
            "colorscale": [
             [
              0,
              "#0d0887"
             ],
             [
              0.1111111111111111,
              "#46039f"
             ],
             [
              0.2222222222222222,
              "#7201a8"
             ],
             [
              0.3333333333333333,
              "#9c179e"
             ],
             [
              0.4444444444444444,
              "#bd3786"
             ],
             [
              0.5555555555555556,
              "#d8576b"
             ],
             [
              0.6666666666666666,
              "#ed7953"
             ],
             [
              0.7777777777777778,
              "#fb9f3a"
             ],
             [
              0.8888888888888888,
              "#fdca26"
             ],
             [
              1,
              "#f0f921"
             ]
            ],
            "type": "heatmap"
           }
          ],
          "heatmapgl": [
           {
            "colorbar": {
             "outlinewidth": 0,
             "ticks": ""
            },
            "colorscale": [
             [
              0,
              "#0d0887"
             ],
             [
              0.1111111111111111,
              "#46039f"
             ],
             [
              0.2222222222222222,
              "#7201a8"
             ],
             [
              0.3333333333333333,
              "#9c179e"
             ],
             [
              0.4444444444444444,
              "#bd3786"
             ],
             [
              0.5555555555555556,
              "#d8576b"
             ],
             [
              0.6666666666666666,
              "#ed7953"
             ],
             [
              0.7777777777777778,
              "#fb9f3a"
             ],
             [
              0.8888888888888888,
              "#fdca26"
             ],
             [
              1,
              "#f0f921"
             ]
            ],
            "type": "heatmapgl"
           }
          ],
          "histogram": [
           {
            "marker": {
             "pattern": {
              "fillmode": "overlay",
              "size": 10,
              "solidity": 0.2
             }
            },
            "type": "histogram"
           }
          ],
          "histogram2d": [
           {
            "colorbar": {
             "outlinewidth": 0,
             "ticks": ""
            },
            "colorscale": [
             [
              0,
              "#0d0887"
             ],
             [
              0.1111111111111111,
              "#46039f"
             ],
             [
              0.2222222222222222,
              "#7201a8"
             ],
             [
              0.3333333333333333,
              "#9c179e"
             ],
             [
              0.4444444444444444,
              "#bd3786"
             ],
             [
              0.5555555555555556,
              "#d8576b"
             ],
             [
              0.6666666666666666,
              "#ed7953"
             ],
             [
              0.7777777777777778,
              "#fb9f3a"
             ],
             [
              0.8888888888888888,
              "#fdca26"
             ],
             [
              1,
              "#f0f921"
             ]
            ],
            "type": "histogram2d"
           }
          ],
          "histogram2dcontour": [
           {
            "colorbar": {
             "outlinewidth": 0,
             "ticks": ""
            },
            "colorscale": [
             [
              0,
              "#0d0887"
             ],
             [
              0.1111111111111111,
              "#46039f"
             ],
             [
              0.2222222222222222,
              "#7201a8"
             ],
             [
              0.3333333333333333,
              "#9c179e"
             ],
             [
              0.4444444444444444,
              "#bd3786"
             ],
             [
              0.5555555555555556,
              "#d8576b"
             ],
             [
              0.6666666666666666,
              "#ed7953"
             ],
             [
              0.7777777777777778,
              "#fb9f3a"
             ],
             [
              0.8888888888888888,
              "#fdca26"
             ],
             [
              1,
              "#f0f921"
             ]
            ],
            "type": "histogram2dcontour"
           }
          ],
          "mesh3d": [
           {
            "colorbar": {
             "outlinewidth": 0,
             "ticks": ""
            },
            "type": "mesh3d"
           }
          ],
          "parcoords": [
           {
            "line": {
             "colorbar": {
              "outlinewidth": 0,
              "ticks": ""
             }
            },
            "type": "parcoords"
           }
          ],
          "pie": [
           {
            "automargin": true,
            "type": "pie"
           }
          ],
          "scatter": [
           {
            "marker": {
             "colorbar": {
              "outlinewidth": 0,
              "ticks": ""
             }
            },
            "type": "scatter"
           }
          ],
          "scatter3d": [
           {
            "line": {
             "colorbar": {
              "outlinewidth": 0,
              "ticks": ""
             }
            },
            "marker": {
             "colorbar": {
              "outlinewidth": 0,
              "ticks": ""
             }
            },
            "type": "scatter3d"
           }
          ],
          "scattercarpet": [
           {
            "marker": {
             "colorbar": {
              "outlinewidth": 0,
              "ticks": ""
             }
            },
            "type": "scattercarpet"
           }
          ],
          "scattergeo": [
           {
            "marker": {
             "colorbar": {
              "outlinewidth": 0,
              "ticks": ""
             }
            },
            "type": "scattergeo"
           }
          ],
          "scattergl": [
           {
            "marker": {
             "colorbar": {
              "outlinewidth": 0,
              "ticks": ""
             }
            },
            "type": "scattergl"
           }
          ],
          "scattermapbox": [
           {
            "marker": {
             "colorbar": {
              "outlinewidth": 0,
              "ticks": ""
             }
            },
            "type": "scattermapbox"
           }
          ],
          "scatterpolar": [
           {
            "marker": {
             "colorbar": {
              "outlinewidth": 0,
              "ticks": ""
             }
            },
            "type": "scatterpolar"
           }
          ],
          "scatterpolargl": [
           {
            "marker": {
             "colorbar": {
              "outlinewidth": 0,
              "ticks": ""
             }
            },
            "type": "scatterpolargl"
           }
          ],
          "scatterternary": [
           {
            "marker": {
             "colorbar": {
              "outlinewidth": 0,
              "ticks": ""
             }
            },
            "type": "scatterternary"
           }
          ],
          "surface": [
           {
            "colorbar": {
             "outlinewidth": 0,
             "ticks": ""
            },
            "colorscale": [
             [
              0,
              "#0d0887"
             ],
             [
              0.1111111111111111,
              "#46039f"
             ],
             [
              0.2222222222222222,
              "#7201a8"
             ],
             [
              0.3333333333333333,
              "#9c179e"
             ],
             [
              0.4444444444444444,
              "#bd3786"
             ],
             [
              0.5555555555555556,
              "#d8576b"
             ],
             [
              0.6666666666666666,
              "#ed7953"
             ],
             [
              0.7777777777777778,
              "#fb9f3a"
             ],
             [
              0.8888888888888888,
              "#fdca26"
             ],
             [
              1,
              "#f0f921"
             ]
            ],
            "type": "surface"
           }
          ],
          "table": [
           {
            "cells": {
             "fill": {
              "color": "#EBF0F8"
             },
             "line": {
              "color": "white"
             }
            },
            "header": {
             "fill": {
              "color": "#C8D4E3"
             },
             "line": {
              "color": "white"
             }
            },
            "type": "table"
           }
          ]
         },
         "layout": {
          "annotationdefaults": {
           "arrowcolor": "#2a3f5f",
           "arrowhead": 0,
           "arrowwidth": 1
          },
          "autotypenumbers": "strict",
          "coloraxis": {
           "colorbar": {
            "outlinewidth": 0,
            "ticks": ""
           }
          },
          "colorscale": {
           "diverging": [
            [
             0,
             "#8e0152"
            ],
            [
             0.1,
             "#c51b7d"
            ],
            [
             0.2,
             "#de77ae"
            ],
            [
             0.3,
             "#f1b6da"
            ],
            [
             0.4,
             "#fde0ef"
            ],
            [
             0.5,
             "#f7f7f7"
            ],
            [
             0.6,
             "#e6f5d0"
            ],
            [
             0.7,
             "#b8e186"
            ],
            [
             0.8,
             "#7fbc41"
            ],
            [
             0.9,
             "#4d9221"
            ],
            [
             1,
             "#276419"
            ]
           ],
           "sequential": [
            [
             0,
             "#0d0887"
            ],
            [
             0.1111111111111111,
             "#46039f"
            ],
            [
             0.2222222222222222,
             "#7201a8"
            ],
            [
             0.3333333333333333,
             "#9c179e"
            ],
            [
             0.4444444444444444,
             "#bd3786"
            ],
            [
             0.5555555555555556,
             "#d8576b"
            ],
            [
             0.6666666666666666,
             "#ed7953"
            ],
            [
             0.7777777777777778,
             "#fb9f3a"
            ],
            [
             0.8888888888888888,
             "#fdca26"
            ],
            [
             1,
             "#f0f921"
            ]
           ],
           "sequentialminus": [
            [
             0,
             "#0d0887"
            ],
            [
             0.1111111111111111,
             "#46039f"
            ],
            [
             0.2222222222222222,
             "#7201a8"
            ],
            [
             0.3333333333333333,
             "#9c179e"
            ],
            [
             0.4444444444444444,
             "#bd3786"
            ],
            [
             0.5555555555555556,
             "#d8576b"
            ],
            [
             0.6666666666666666,
             "#ed7953"
            ],
            [
             0.7777777777777778,
             "#fb9f3a"
            ],
            [
             0.8888888888888888,
             "#fdca26"
            ],
            [
             1,
             "#f0f921"
            ]
           ]
          },
          "colorway": [
           "#636efa",
           "#EF553B",
           "#00cc96",
           "#ab63fa",
           "#FFA15A",
           "#19d3f3",
           "#FF6692",
           "#B6E880",
           "#FF97FF",
           "#FECB52"
          ],
          "font": {
           "color": "#2a3f5f"
          },
          "geo": {
           "bgcolor": "white",
           "lakecolor": "white",
           "landcolor": "#E5ECF6",
           "showlakes": true,
           "showland": true,
           "subunitcolor": "white"
          },
          "hoverlabel": {
           "align": "left"
          },
          "hovermode": "closest",
          "mapbox": {
           "style": "light"
          },
          "paper_bgcolor": "white",
          "plot_bgcolor": "#E5ECF6",
          "polar": {
           "angularaxis": {
            "gridcolor": "white",
            "linecolor": "white",
            "ticks": ""
           },
           "bgcolor": "#E5ECF6",
           "radialaxis": {
            "gridcolor": "white",
            "linecolor": "white",
            "ticks": ""
           }
          },
          "scene": {
           "xaxis": {
            "backgroundcolor": "#E5ECF6",
            "gridcolor": "white",
            "gridwidth": 2,
            "linecolor": "white",
            "showbackground": true,
            "ticks": "",
            "zerolinecolor": "white"
           },
           "yaxis": {
            "backgroundcolor": "#E5ECF6",
            "gridcolor": "white",
            "gridwidth": 2,
            "linecolor": "white",
            "showbackground": true,
            "ticks": "",
            "zerolinecolor": "white"
           },
           "zaxis": {
            "backgroundcolor": "#E5ECF6",
            "gridcolor": "white",
            "gridwidth": 2,
            "linecolor": "white",
            "showbackground": true,
            "ticks": "",
            "zerolinecolor": "white"
           }
          },
          "shapedefaults": {
           "line": {
            "color": "#2a3f5f"
           }
          },
          "ternary": {
           "aaxis": {
            "gridcolor": "white",
            "linecolor": "white",
            "ticks": ""
           },
           "baxis": {
            "gridcolor": "white",
            "linecolor": "white",
            "ticks": ""
           },
           "bgcolor": "#E5ECF6",
           "caxis": {
            "gridcolor": "white",
            "linecolor": "white",
            "ticks": ""
           }
          },
          "title": {
           "x": 0.05
          },
          "xaxis": {
           "automargin": true,
           "gridcolor": "white",
           "linecolor": "white",
           "ticks": "",
           "title": {
            "standoff": 15
           },
           "zerolinecolor": "white",
           "zerolinewidth": 2
          },
          "yaxis": {
           "automargin": true,
           "gridcolor": "white",
           "linecolor": "white",
           "ticks": "",
           "title": {
            "standoff": 15
           },
           "zerolinecolor": "white",
           "zerolinewidth": 2
          }
         }
        },
        "title": {
         "text": "Popularity vs. Danceability, sorted by Album",
         "x": 0.5,
         "xanchor": "center",
         "y": 0.95,
         "yanchor": "top"
        },
        "xaxis": {
         "anchor": "y",
         "domain": [
          0,
          1
         ],
         "title": {
          "text": "danceability"
         }
        },
        "yaxis": {
         "anchor": "x",
         "domain": [
          0,
          1
         ],
         "title": {
          "text": "popularity"
         }
        }
       }
      }
     },
     "metadata": {},
     "output_type": "display_data"
    }
   ],
   "source": [
    "fig = px.scatter(data_frame = john, x = 'danceability', y = 'popularity', hover_data = john, color = 'album_name')\n",
    "fig.update_layout(\n",
    "    title={\n",
    "        'text': \"Popularity vs. Danceability, sorted by Album\",\n",
    "        'y':0.95,\n",
    "        'x':0.5,\n",
    "        'xanchor': 'center',\n",
    "        'yanchor': 'top'})\n",
    "fig.show()"
   ]
  },
  {
   "cell_type": "code",
   "execution_count": 152,
   "metadata": {},
   "outputs": [
    {
     "data": {
      "image/png": "[encoded data removed]",
      "text/plain": [
       "<Figure size 1440x720 with 1 Axes>"
      ]
     },
     "metadata": {},
     "output_type": "display_data"
    }
   ],
   "source": [
    "sns.set_style('darkgrid')\n",
    "sns.boxplot(x = john['album_name'], y = john['popularity'])\n",
    "plt.xlabel('')\n",
    "plt.rcParams['figure.figsize'] = [30, 10]  \n",
    "plt.xticks(rotation = 45)\n",
    "plt.show()\n",
    "\n",
    "# Room for squares, continuum, and sob rock have highest popularity scores"
   ]
  },
  {
   "cell_type": "code",
   "execution_count": 154,
   "metadata": {},
   "outputs": [
    {
     "data": {
      "image/png": "[encoded data removed]",
      "text/plain": [
       "<Figure size 1440x720 with 2 Axes>"
      ]
     },
     "metadata": {},
     "output_type": "display_data"
    }
   ],
   "source": [
    "sns.heatmap(john[['danceability', 'popularity', 'valence', 'tempo', 'acousticness']].corr(), annot=True, cmap = 'Blues')\n",
    "plt.title(\"Correlation Matrix\")\n",
    "plt.rcParams['figure.figsize'] = [10, 5]  \n",
    "plt.show()\n",
    "\n",
    "# decently positive relationships between danceability and popularity, danceability and valence\n",
    "# decent positive relationship between popularity and acousticness too\n",
    "# interesting negative relationship between danceability and tempo (as dancability increases, tempo decreases)\n",
    "# interesting negative relationship between valence and acousticness (the more acoustic, the less positive the song is)"
   ]
  },
  {
   "cell_type": "code",
   "execution_count": 118,
   "metadata": {},
   "outputs": [
    {
     "data": {
      "image/png": "[encoded data removed]",
      "text/plain": [
       "<Figure size 1440x720 with 1 Axes>"
      ]
     },
     "metadata": {},
     "output_type": "display_data"
    }
   ],
   "source": [
    "sns.set_style('darkgrid')\n",
    "sns.boxplot(x = john['key'], y = john['popularity'], palette=\"Blues\")\n",
    "plt.xlabel('')\n",
    "plt.rcParams['figure.figsize'] = [20, 10]  \n",
    "plt.title(\"Song Popularity by Key\")\n",
    "plt.show()\n",
    "\n",
    "# most popular songs are in the key of \"G\""
   ]
  },
  {
   "cell_type": "code",
   "execution_count": 171,
   "metadata": {},
   "outputs": [
    {
     "data": {
      "text/plain": [
       "key\n",
       "A        63\n",
       "A#/Bb    45\n",
       "B        56\n",
       "C        63\n",
       "C#/Db    73\n",
       "D        72\n",
       "D#/Eb    60\n",
       "E        69\n",
       "F        73\n",
       "F#/Gb    57\n",
       "G        75\n",
       "G#/Ab    61\n",
       "Name: popularity, dtype: int64"
      ]
     },
     "execution_count": 171,
     "metadata": {},
     "output_type": "execute_result"
    }
   ],
   "source": [
    "# Most popular songs based on key\n",
    "\n",
    "key = john.groupby(['key'])['popularity'].max()\n",
    "\n",
    "# key = key[['name', 'album_name', 'key', 'popularity']]\n",
    "\n",
    "key\n"
   ]
  },
  {
   "cell_type": "code",
   "execution_count": 156,
   "metadata": {},
   "outputs": [
    {
     "data": {
      "image/png": "[encoded data removed]",
      "text/plain": [
       "<Figure size 1440x720 with 1 Axes>"
      ]
     },
     "metadata": {},
     "output_type": "display_data"
    }
   ],
   "source": [
    "sns.distplot(john['popularity'], hist=True, kde=True, \n",
    "             bins=int(180/5), color = 'darkblue', \n",
    "             hist_kws={'edgecolor':'black'},\n",
    "             kde_kws={'linewidth': 4})\n",
    "\n",
    "plt.rcParams['figure.figsize'] = [20, 10]  \n",
    "      "
   ]
  },
  {
   "cell_type": "code",
   "execution_count": 138,
   "metadata": {},
   "outputs": [
    {
     "name": "stdout",
     "output_type": "stream",
     "text": [
      "                            OLS Regression Results                            \n",
      "==============================================================================\n",
      "Dep. Variable:             popularity   R-squared:                       0.307\n",
      "Model:                            OLS   Adj. R-squared:                  0.291\n",
      "Method:                 Least Squares   F-statistic:                     19.07\n",
      "Date:                Fri, 18 Nov 2022   Prob (F-statistic):           5.33e-13\n",
      "Time:                        20:48:20   Log-Likelihood:                -708.46\n",
      "No. Observations:                 177   AIC:                             1427.\n",
      "Df Residuals:                     172   BIC:                             1443.\n",
      "Df Model:                           4                                         \n",
      "Covariance Type:            nonrobust                                         \n",
      "================================================================================\n",
      "                   coef    std err          t      P>|t|      [0.025      0.975]\n",
      "--------------------------------------------------------------------------------\n",
      "const            6.9379      7.042      0.985      0.326      -6.961      20.837\n",
      "danceability    58.0055      8.832      6.568      0.000      40.573      75.438\n",
      "tempo            0.0380      0.040      0.955      0.341      -0.041       0.117\n",
      "valence         -7.5625      6.307     -1.199      0.232     -20.011       4.886\n",
      "acousticness    13.2044      3.659      3.609      0.000       5.982      20.427\n",
      "==============================================================================\n",
      "Omnibus:                        4.255   Durbin-Watson:                   0.800\n",
      "Prob(Omnibus):                  0.119   Jarque-Bera (JB):                3.802\n",
      "Skew:                          -0.329   Prob(JB):                        0.149\n",
      "Kurtosis:                       3.289   Cond. No.                     1.28e+03\n",
      "==============================================================================\n",
      "\n",
      "Notes:\n",
      "[1] Standard Errors assume that the covariance matrix of the errors is correctly specified.\n",
      "[2] The condition number is large, 1.28e+03. This might indicate that there are\n",
      "strong multicollinearity or other numerical problems.\n"
     ]
    }
   ],
   "source": [
    "import statsmodels.api as sm\n",
    "\n",
    "#define response variable\n",
    "y = john['popularity']\n",
    "\n",
    "#define predictor variables\n",
    "x = john[['danceability', 'tempo', 'valence', 'acousticness']]\n",
    "\n",
    "#add constant to predictor variables\n",
    "x = sm.add_constant(x)\n",
    "\n",
    "#fit linear regression model\n",
    "model = sm.OLS(y, x).fit()\n",
    "\n",
    "#view model summary\n",
    "print(model.summary())"
   ]
  },
  {
   "cell_type": "code",
   "execution_count": 166,
   "metadata": {},
   "outputs": [
    {
     "data": {
      "text/plain": [
       "43.666666666666664"
      ]
     },
     "execution_count": 166,
     "metadata": {},
     "output_type": "execute_result"
    }
   ],
   "source": [
    "john['popularity'].mean()"
   ]
  },
  {
   "cell_type": "code",
   "execution_count": 178,
   "metadata": {},
   "outputs": [
    {
     "data": {
      "text/html": [
       "<div>\n",
       "<style scoped>\n",
       "    .dataframe tbody tr th:only-of-type {\n",
       "        vertical-align: middle;\n",
       "    }\n",
       "\n",
       "    .dataframe tbody tr th {\n",
       "        vertical-align: top;\n",
       "    }\n",
       "\n",
       "    .dataframe thead th {\n",
       "        text-align: right;\n",
       "    }\n",
       "</style>\n",
       "<table border=\"1\" class=\"dataframe\">\n",
       "  <thead>\n",
       "    <tr style=\"text-align: right;\">\n",
       "      <th></th>\n",
       "      <th>key</th>\n",
       "      <th>popularity</th>\n",
       "      <th>name</th>\n",
       "      <th>album_name</th>\n",
       "    </tr>\n",
       "  </thead>\n",
       "  <tbody>\n",
       "    <tr>\n",
       "      <th>0</th>\n",
       "      <td>E</td>\n",
       "      <td>67</td>\n",
       "      <td>Last Train Home</td>\n",
       "      <td>Sob Rock</td>\n",
       "    </tr>\n",
       "    <tr>\n",
       "      <th>1</th>\n",
       "      <td>E</td>\n",
       "      <td>62</td>\n",
       "      <td>Shouldn't Matter but It Does</td>\n",
       "      <td>Sob Rock</td>\n",
       "    </tr>\n",
       "    <tr>\n",
       "      <th>2</th>\n",
       "      <td>G</td>\n",
       "      <td>75</td>\n",
       "      <td>New Light</td>\n",
       "      <td>Sob Rock</td>\n",
       "    </tr>\n",
       "    <tr>\n",
       "      <th>3</th>\n",
       "      <td>A</td>\n",
       "      <td>58</td>\n",
       "      <td>Why You No Love Me</td>\n",
       "      <td>Sob Rock</td>\n",
       "    </tr>\n",
       "    <tr>\n",
       "      <th>4</th>\n",
       "      <td>C</td>\n",
       "      <td>63</td>\n",
       "      <td>Wild Blue</td>\n",
       "      <td>Sob Rock</td>\n",
       "    </tr>\n",
       "    <tr>\n",
       "      <th>5</th>\n",
       "      <td>D</td>\n",
       "      <td>62</td>\n",
       "      <td>Shot in the Dark</td>\n",
       "      <td>Sob Rock</td>\n",
       "    </tr>\n",
       "    <tr>\n",
       "      <th>6</th>\n",
       "      <td>E</td>\n",
       "      <td>69</td>\n",
       "      <td>I Guess I Just Feel Like</td>\n",
       "      <td>Sob Rock</td>\n",
       "    </tr>\n",
       "    <tr>\n",
       "      <th>7</th>\n",
       "      <td>D#/Eb</td>\n",
       "      <td>60</td>\n",
       "      <td>Til the Right One Comes</td>\n",
       "      <td>Sob Rock</td>\n",
       "    </tr>\n",
       "    <tr>\n",
       "      <th>8</th>\n",
       "      <td>E</td>\n",
       "      <td>64</td>\n",
       "      <td>Carry Me Away</td>\n",
       "      <td>Sob Rock</td>\n",
       "    </tr>\n",
       "    <tr>\n",
       "      <th>9</th>\n",
       "      <td>C</td>\n",
       "      <td>58</td>\n",
       "      <td>All I Want Is to Be With You</td>\n",
       "      <td>Sob Rock</td>\n",
       "    </tr>\n",
       "    <tr>\n",
       "      <th>10</th>\n",
       "      <td>D</td>\n",
       "      <td>59</td>\n",
       "      <td>Still Feel Like Your Man</td>\n",
       "      <td>The Search for Everything</td>\n",
       "    </tr>\n",
       "    <tr>\n",
       "      <th>11</th>\n",
       "      <td>B</td>\n",
       "      <td>56</td>\n",
       "      <td>Emoji of a Wave</td>\n",
       "      <td>The Search for Everything</td>\n",
       "    </tr>\n",
       "    <tr>\n",
       "      <th>12</th>\n",
       "      <td>A</td>\n",
       "      <td>55</td>\n",
       "      <td>Helpless</td>\n",
       "      <td>The Search for Everything</td>\n",
       "    </tr>\n",
       "    <tr>\n",
       "      <th>13</th>\n",
       "      <td>G</td>\n",
       "      <td>65</td>\n",
       "      <td>Love on the Weekend</td>\n",
       "      <td>The Search for Everything</td>\n",
       "    </tr>\n",
       "    <tr>\n",
       "      <th>14</th>\n",
       "      <td>G#/Ab</td>\n",
       "      <td>61</td>\n",
       "      <td>In the Blood</td>\n",
       "      <td>The Search for Everything</td>\n",
       "    </tr>\n",
       "    <tr>\n",
       "      <th>15</th>\n",
       "      <td>C</td>\n",
       "      <td>53</td>\n",
       "      <td>Changing</td>\n",
       "      <td>The Search for Everything</td>\n",
       "    </tr>\n",
       "    <tr>\n",
       "      <th>16</th>\n",
       "      <td>G</td>\n",
       "      <td>45</td>\n",
       "      <td>Theme from \"The Search for Everything\"</td>\n",
       "      <td>The Search for Everything</td>\n",
       "    </tr>\n",
       "    <tr>\n",
       "      <th>17</th>\n",
       "      <td>F#/Gb</td>\n",
       "      <td>57</td>\n",
       "      <td>Moving On and Getting Over</td>\n",
       "      <td>The Search for Everything</td>\n",
       "    </tr>\n",
       "    <tr>\n",
       "      <th>18</th>\n",
       "      <td>D</td>\n",
       "      <td>55</td>\n",
       "      <td>Never on the Day You Leave</td>\n",
       "      <td>The Search for Everything</td>\n",
       "    </tr>\n",
       "    <tr>\n",
       "      <th>19</th>\n",
       "      <td>G</td>\n",
       "      <td>59</td>\n",
       "      <td>Rosie</td>\n",
       "      <td>The Search for Everything</td>\n",
       "    </tr>\n",
       "    <tr>\n",
       "      <th>20</th>\n",
       "      <td>D</td>\n",
       "      <td>53</td>\n",
       "      <td>Roll it on Home</td>\n",
       "      <td>The Search for Everything</td>\n",
       "    </tr>\n",
       "    <tr>\n",
       "      <th>21</th>\n",
       "      <td>G</td>\n",
       "      <td>73</td>\n",
       "      <td>You're Gonna Live Forever in Me</td>\n",
       "      <td>The Search for Everything</td>\n",
       "    </tr>\n",
       "    <tr>\n",
       "      <th>22</th>\n",
       "      <td>G#/Ab</td>\n",
       "      <td>59</td>\n",
       "      <td>Wildfire</td>\n",
       "      <td>Paradise Valley</td>\n",
       "    </tr>\n",
       "    <tr>\n",
       "      <th>23</th>\n",
       "      <td>A</td>\n",
       "      <td>57</td>\n",
       "      <td>Dear Marie</td>\n",
       "      <td>Paradise Valley</td>\n",
       "    </tr>\n",
       "    <tr>\n",
       "      <th>26</th>\n",
       "      <td>C#/Db</td>\n",
       "      <td>48</td>\n",
       "      <td>Call Me The Breeze</td>\n",
       "      <td>Paradise Valley</td>\n",
       "    </tr>\n",
       "    <tr>\n",
       "      <th>27</th>\n",
       "      <td>A</td>\n",
       "      <td>63</td>\n",
       "      <td>Who You Love (feat. Katy Perry)</td>\n",
       "      <td>Paradise Valley</td>\n",
       "    </tr>\n",
       "    <tr>\n",
       "      <th>28</th>\n",
       "      <td>F</td>\n",
       "      <td>52</td>\n",
       "      <td>I Will Be Found (Lost At Sea)</td>\n",
       "      <td>Paradise Valley</td>\n",
       "    </tr>\n",
       "    <tr>\n",
       "      <th>30</th>\n",
       "      <td>C</td>\n",
       "      <td>43</td>\n",
       "      <td>You're No One 'Til Someone Lets You Down</td>\n",
       "      <td>Paradise Valley</td>\n",
       "    </tr>\n",
       "    <tr>\n",
       "      <th>32</th>\n",
       "      <td>D</td>\n",
       "      <td>45</td>\n",
       "      <td>On The Way Home</td>\n",
       "      <td>Paradise Valley</td>\n",
       "    </tr>\n",
       "    <tr>\n",
       "      <th>33</th>\n",
       "      <td>E</td>\n",
       "      <td>58</td>\n",
       "      <td>Queen of California</td>\n",
       "      <td>Born and Raised</td>\n",
       "    </tr>\n",
       "    <tr>\n",
       "      <th>36</th>\n",
       "      <td>A</td>\n",
       "      <td>45</td>\n",
       "      <td>Speak For Me</td>\n",
       "      <td>Born and Raised</td>\n",
       "    </tr>\n",
       "    <tr>\n",
       "      <th>38</th>\n",
       "      <td>C</td>\n",
       "      <td>55</td>\n",
       "      <td>Born and Raised</td>\n",
       "      <td>Born and Raised</td>\n",
       "    </tr>\n",
       "    <tr>\n",
       "      <th>41</th>\n",
       "      <td>F#/Gb</td>\n",
       "      <td>49</td>\n",
       "      <td>Walt Grace's Submarine Test, January 1967</td>\n",
       "      <td>Born and Raised</td>\n",
       "    </tr>\n",
       "    <tr>\n",
       "      <th>46</th>\n",
       "      <td>F</td>\n",
       "      <td>51</td>\n",
       "      <td>All We Ever Do Is Say Goodbye</td>\n",
       "      <td>Battle Studies</td>\n",
       "    </tr>\n",
       "    <tr>\n",
       "      <th>47</th>\n",
       "      <td>F</td>\n",
       "      <td>64</td>\n",
       "      <td>Half of My Heart</td>\n",
       "      <td>Battle Studies</td>\n",
       "    </tr>\n",
       "    <tr>\n",
       "      <th>50</th>\n",
       "      <td>B</td>\n",
       "      <td>48</td>\n",
       "      <td>Assassin</td>\n",
       "      <td>Battle Studies</td>\n",
       "    </tr>\n",
       "    <tr>\n",
       "      <th>52</th>\n",
       "      <td>F#/Gb</td>\n",
       "      <td>47</td>\n",
       "      <td>War of My Life</td>\n",
       "      <td>Battle Studies</td>\n",
       "    </tr>\n",
       "    <tr>\n",
       "      <th>60</th>\n",
       "      <td>F</td>\n",
       "      <td>71</td>\n",
       "      <td>Free Fallin' - Live at the Nokia Theatre, Los ...</td>\n",
       "      <td>Where The Light Is</td>\n",
       "    </tr>\n",
       "    <tr>\n",
       "      <th>62</th>\n",
       "      <td>C#/Db</td>\n",
       "      <td>45</td>\n",
       "      <td>Wait Until Tomorrow - Live at the Nokia Theatr...</td>\n",
       "      <td>Where The Light Is</td>\n",
       "    </tr>\n",
       "    <tr>\n",
       "      <th>68</th>\n",
       "      <td>C#/Db</td>\n",
       "      <td>44</td>\n",
       "      <td>Bold as Love - Live at the Nokia Theatre, Los ...</td>\n",
       "      <td>Where The Light Is</td>\n",
       "    </tr>\n",
       "    <tr>\n",
       "      <th>70</th>\n",
       "      <td>C#/Db</td>\n",
       "      <td>54</td>\n",
       "      <td>Slow Dancing in a Burning Room - Live at the N...</td>\n",
       "      <td>Where The Light Is</td>\n",
       "    </tr>\n",
       "    <tr>\n",
       "      <th>72</th>\n",
       "      <td>C#/Db</td>\n",
       "      <td>45</td>\n",
       "      <td>The Heart of Life - Live at the Nokia Theatre,...</td>\n",
       "      <td>Where The Light Is</td>\n",
       "    </tr>\n",
       "    <tr>\n",
       "      <th>73</th>\n",
       "      <td>B</td>\n",
       "      <td>46</td>\n",
       "      <td>I Don't Need No Doctor - Live at the Nokia The...</td>\n",
       "      <td>Where The Light Is</td>\n",
       "    </tr>\n",
       "    <tr>\n",
       "      <th>80</th>\n",
       "      <td>F</td>\n",
       "      <td>55</td>\n",
       "      <td>Belief</td>\n",
       "      <td>Continuum</td>\n",
       "    </tr>\n",
       "    <tr>\n",
       "      <th>93</th>\n",
       "      <td>A#/Bb</td>\n",
       "      <td>31</td>\n",
       "      <td>Covered in Rain - Live at Tweeter Center, Phil...</td>\n",
       "      <td>As/Is</td>\n",
       "    </tr>\n",
       "    <tr>\n",
       "      <th>99</th>\n",
       "      <td>A#/Bb</td>\n",
       "      <td>28</td>\n",
       "      <td>Inner City Blues (Make Me Wanna Holler) - Live...</td>\n",
       "      <td>As/Is</td>\n",
       "    </tr>\n",
       "    <tr>\n",
       "      <th>100</th>\n",
       "      <td>B</td>\n",
       "      <td>25</td>\n",
       "      <td>Clarity - Live at Blossom Music Center, Clevel...</td>\n",
       "      <td>As/Is</td>\n",
       "    </tr>\n",
       "    <tr>\n",
       "      <th>101</th>\n",
       "      <td>G#/Ab</td>\n",
       "      <td>25</td>\n",
       "      <td>3x5 - Live at Blossom Music Center, Cleveland,...</td>\n",
       "      <td>As/Is</td>\n",
       "    </tr>\n",
       "    <tr>\n",
       "      <th>102</th>\n",
       "      <td>A#/Bb</td>\n",
       "      <td>23</td>\n",
       "      <td>Home Life - Acoustic - Live at Shoreline Amphi...</td>\n",
       "      <td>As/Is</td>\n",
       "    </tr>\n",
       "    <tr>\n",
       "      <th>104</th>\n",
       "      <td>G#/Ab</td>\n",
       "      <td>24</td>\n",
       "      <td>Neon - Live at Cynthia Woods Mitchell Pavilion...</td>\n",
       "      <td>As/Is</td>\n",
       "    </tr>\n",
       "    <tr>\n",
       "      <th>112</th>\n",
       "      <td>B</td>\n",
       "      <td>21</td>\n",
       "      <td>Quiet - Live in Ohio, August 2004</td>\n",
       "      <td>As/Is</td>\n",
       "    </tr>\n",
       "    <tr>\n",
       "      <th>117</th>\n",
       "      <td>F#/Gb</td>\n",
       "      <td>0</td>\n",
       "      <td>Back to You - Live at Cynthia Woods Mitchell P...</td>\n",
       "      <td>As/Is</td>\n",
       "    </tr>\n",
       "    <tr>\n",
       "      <th>164</th>\n",
       "      <td>A#/Bb</td>\n",
       "      <td>45</td>\n",
       "      <td>Wheel</td>\n",
       "      <td>Heavier Things</td>\n",
       "    </tr>\n",
       "    <tr>\n",
       "      <th>167</th>\n",
       "      <td>F#/Gb</td>\n",
       "      <td>31</td>\n",
       "      <td>Back to You - Live at the Oak Mountain Amphith...</td>\n",
       "      <td>Any Given Thursday</td>\n",
       "    </tr>\n",
       "    <tr>\n",
       "      <th>176</th>\n",
       "      <td>A#/Bb</td>\n",
       "      <td>42</td>\n",
       "      <td>Covered in Rain - Live at the Oak Mountain Amp...</td>\n",
       "      <td>Any Given Thursday</td>\n",
       "    </tr>\n",
       "  </tbody>\n",
       "</table>\n",
       "</div>"
      ],
      "text/plain": [
       "       key  popularity                                               name  \\\n",
       "0        E          67                                    Last Train Home   \n",
       "1        E          62                       Shouldn't Matter but It Does   \n",
       "2        G          75                                          New Light   \n",
       "3        A          58                                 Why You No Love Me   \n",
       "4        C          63                                          Wild Blue   \n",
       "5        D          62                                   Shot in the Dark   \n",
       "6        E          69                           I Guess I Just Feel Like   \n",
       "7    D#/Eb          60                            Til the Right One Comes   \n",
       "8        E          64                                      Carry Me Away   \n",
       "9        C          58                       All I Want Is to Be With You   \n",
       "10       D          59                           Still Feel Like Your Man   \n",
       "11       B          56                                    Emoji of a Wave   \n",
       "12       A          55                                           Helpless   \n",
       "13       G          65                                Love on the Weekend   \n",
       "14   G#/Ab          61                                       In the Blood   \n",
       "15       C          53                                           Changing   \n",
       "16       G          45             Theme from \"The Search for Everything\"   \n",
       "17   F#/Gb          57                         Moving On and Getting Over   \n",
       "18       D          55                         Never on the Day You Leave   \n",
       "19       G          59                                              Rosie   \n",
       "20       D          53                                    Roll it on Home   \n",
       "21       G          73                    You're Gonna Live Forever in Me   \n",
       "22   G#/Ab          59                                           Wildfire   \n",
       "23       A          57                                         Dear Marie   \n",
       "26   C#/Db          48                                 Call Me The Breeze   \n",
       "27       A          63                    Who You Love (feat. Katy Perry)   \n",
       "28       F          52                      I Will Be Found (Lost At Sea)   \n",
       "30       C          43           You're No One 'Til Someone Lets You Down   \n",
       "32       D          45                                    On The Way Home   \n",
       "33       E          58                                Queen of California   \n",
       "36       A          45                                       Speak For Me   \n",
       "38       C          55                                    Born and Raised   \n",
       "41   F#/Gb          49          Walt Grace's Submarine Test, January 1967   \n",
       "46       F          51                      All We Ever Do Is Say Goodbye   \n",
       "47       F          64                                   Half of My Heart   \n",
       "50       B          48                                           Assassin   \n",
       "52   F#/Gb          47                                     War of My Life   \n",
       "60       F          71  Free Fallin' - Live at the Nokia Theatre, Los ...   \n",
       "62   C#/Db          45  Wait Until Tomorrow - Live at the Nokia Theatr...   \n",
       "68   C#/Db          44  Bold as Love - Live at the Nokia Theatre, Los ...   \n",
       "70   C#/Db          54  Slow Dancing in a Burning Room - Live at the N...   \n",
       "72   C#/Db          45  The Heart of Life - Live at the Nokia Theatre,...   \n",
       "73       B          46  I Don't Need No Doctor - Live at the Nokia The...   \n",
       "80       F          55                                             Belief   \n",
       "93   A#/Bb          31  Covered in Rain - Live at Tweeter Center, Phil...   \n",
       "99   A#/Bb          28  Inner City Blues (Make Me Wanna Holler) - Live...   \n",
       "100      B          25  Clarity - Live at Blossom Music Center, Clevel...   \n",
       "101  G#/Ab          25  3x5 - Live at Blossom Music Center, Cleveland,...   \n",
       "102  A#/Bb          23  Home Life - Acoustic - Live at Shoreline Amphi...   \n",
       "104  G#/Ab          24  Neon - Live at Cynthia Woods Mitchell Pavilion...   \n",
       "112      B          21                  Quiet - Live in Ohio, August 2004   \n",
       "117  F#/Gb           0  Back to You - Live at Cynthia Woods Mitchell P...   \n",
       "164  A#/Bb          45                                              Wheel   \n",
       "167  F#/Gb          31  Back to You - Live at the Oak Mountain Amphith...   \n",
       "176  A#/Bb          42  Covered in Rain - Live at the Oak Mountain Amp...   \n",
       "\n",
       "                    album_name  \n",
       "0                     Sob Rock  \n",
       "1                     Sob Rock  \n",
       "2                     Sob Rock  \n",
       "3                     Sob Rock  \n",
       "4                     Sob Rock  \n",
       "5                     Sob Rock  \n",
       "6                     Sob Rock  \n",
       "7                     Sob Rock  \n",
       "8                     Sob Rock  \n",
       "9                     Sob Rock  \n",
       "10   The Search for Everything  \n",
       "11   The Search for Everything  \n",
       "12   The Search for Everything  \n",
       "13   The Search for Everything  \n",
       "14   The Search for Everything  \n",
       "15   The Search for Everything  \n",
       "16   The Search for Everything  \n",
       "17   The Search for Everything  \n",
       "18   The Search for Everything  \n",
       "19   The Search for Everything  \n",
       "20   The Search for Everything  \n",
       "21   The Search for Everything  \n",
       "22             Paradise Valley  \n",
       "23             Paradise Valley  \n",
       "26             Paradise Valley  \n",
       "27             Paradise Valley  \n",
       "28             Paradise Valley  \n",
       "30             Paradise Valley  \n",
       "32             Paradise Valley  \n",
       "33             Born and Raised  \n",
       "36             Born and Raised  \n",
       "38             Born and Raised  \n",
       "41             Born and Raised  \n",
       "46              Battle Studies  \n",
       "47              Battle Studies  \n",
       "50              Battle Studies  \n",
       "52              Battle Studies  \n",
       "60          Where The Light Is  \n",
       "62          Where The Light Is  \n",
       "68          Where The Light Is  \n",
       "70          Where The Light Is  \n",
       "72          Where The Light Is  \n",
       "73          Where The Light Is  \n",
       "80                   Continuum  \n",
       "93                       As/Is  \n",
       "99                       As/Is  \n",
       "100                      As/Is  \n",
       "101                      As/Is  \n",
       "102                      As/Is  \n",
       "104                      As/Is  \n",
       "112                      As/Is  \n",
       "117                      As/Is  \n",
       "164             Heavier Things  \n",
       "167         Any Given Thursday  \n",
       "176         Any Given Thursday  "
      ]
     },
     "execution_count": 178,
     "metadata": {},
     "output_type": "execute_result"
    }
   ],
   "source": [
    "# Most popular songs based on key\n",
    "\n",
    "names = john.groupby(['key'])['key', 'popularity', 'name', 'album_name']\n",
    "\n",
    "# key = key[['name', 'album_name', 'key', 'popularity']]\n",
    "\n",
    "names.head()\n"
   ]
  },
  {
   "cell_type": "code",
   "execution_count": null,
   "metadata": {},
   "outputs": [],
   "source": []
  }
 ],
 "metadata": {
  "kernelspec": {
   "display_name": "Python 3.9.12 ('base')",
   "language": "python",
   "name": "python3"
  },
  "language_info": {
   "codemirror_mode": {
    "name": "ipython",
    "version": 3
   },
   "file_extension": ".py",
   "mimetype": "text/x-python",
   "name": "python",
   "nbconvert_exporter": "python",
   "pygments_lexer": "ipython3",
   "version": "3.9.12"
  },
  "orig_nbformat": 4,
  "vscode": {
   "interpreter": {
    "hash": "b57c395c4c22a9c2c6de26d7c39fbebe94abec0850a87eafbc05e6020d22bafb"
   }
  }
 },
 "nbformat": 4,
 "nbformat_minor": 2
}
